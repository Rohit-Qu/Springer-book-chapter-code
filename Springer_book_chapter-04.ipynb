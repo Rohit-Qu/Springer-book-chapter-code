{
 "cells": [
  {
   "cell_type": "code",
   "execution_count": 1,
   "id": "8a140f8b",
   "metadata": {},
   "outputs": [],
   "source": [
    "import random\n",
    "from qiskit import execute, Aer, IBMQ\n",
    "from qiskit.tools.jupyter import *\n",
    "from qiskit.visualization import *\n",
    "from qiskit import *"
   ]
  },
  {
   "cell_type": "code",
   "execution_count": 2,
   "id": "3012c6e7",
   "metadata": {},
   "outputs": [],
   "source": [
    "def key_basis_generation(num_qubits, p):\n",
    "    random.seed(p)\n",
    "    key = str('{0:008b}'.format(random.getrandbits(num_qubits)))\n",
    "    bases = str('{0:008b}'.format(random.getrandbits(num_qubits)))\n",
    "    return key, bases\n",
    "\n",
    "def gen_q(circuit, k, b):\n",
    "    for i in range(len(k)):\n",
    "        if k[i] == '0' and b[i] == '1':\n",
    "            circuit.h(i)\n",
    "        elif k[i] == '1' and b[i] == '0':\n",
    "            circuit.x(i)\n",
    "        elif k[i] == '1' and b[i] == '1':\n",
    "            circuit.x(i)\n",
    "            circuit.h(i)\n",
    "    return circuit \n",
    "\n",
    "def bob_measurement(circuit, bob):\n",
    "    for i in range(len(bob)):\n",
    "        if bob[i] == '0':\n",
    "            circuit.measure(i,i)\n",
    "        else:\n",
    "            circuit.h(i)\n",
    "            circuit.measure(i,i)\n",
    "    return circuit\n",
    "\n",
    "def bob_measures_the_qubit(circ):\n",
    "    # Use Aer's qasm_simulator\n",
    "    \n",
    "    backend_sim = Aer.get_backend('qasm_simulator')\n",
    "\n",
    "    # Execute the circuit on the qasm simulator.\n",
    "    # We've set the number of repeats of the circuit\n",
    "    # to be 1, which is the default.\n",
    "    job_sim = execute(circ, backend_sim, shots=1)\n",
    "\n",
    "    # Grab the results from the job.\n",
    "    result_sim = job_sim.result()\n",
    "    counts = result_sim.get_counts(circ)\n",
    "    output = list(counts.keys())[0] \n",
    "           \n",
    "    return output\n",
    "\n",
    "def bob_genrates_key(a_b, b_b, output):\n",
    "    key = ''\n",
    "    for i in range(len(b_b)):\n",
    "        if a_b[i] == b_b[i]:\n",
    "            key+=str(output[i])            \n",
    "    return key"
   ]
  },
  {
   "cell_type": "code",
   "execution_count": 3,
   "id": "ede9bd5f",
   "metadata": {},
   "outputs": [],
   "source": [
    "def gen_q(circuit, k, b):\n",
    "    for i in range(len(k)):\n",
    "        if k[i] == '0' and b[i] == '1':\n",
    "            circuit.h(i)\n",
    "        elif k[i] == '1' and b[i] == '0':\n",
    "            circuit.x(i)\n",
    "        elif k[i] == '1' and b[i] == '1':\n",
    "            circuit.x(i)\n",
    "            circuit.h(i)\n",
    "    return circuit "
   ]
  },
  {
   "cell_type": "code",
   "execution_count": 4,
   "id": "9f5f7af2",
   "metadata": {},
   "outputs": [],
   "source": [
    "def bob_measurement(circuit, bob):\n",
    "    for i in range(len(bob)):\n",
    "        if bob[i] == '0':\n",
    "            circuit.measure(i,i)\n",
    "        else:\n",
    "            circuit.h(i)\n",
    "            circuit.measure(i,i)\n",
    "    return circuit"
   ]
  },
  {
   "cell_type": "code",
   "execution_count": 5,
   "id": "f49d6e87",
   "metadata": {},
   "outputs": [],
   "source": [
    "def bob_measures_the_qubit(circ):\n",
    "    # Use Aer's qasm_simulator\n",
    "    \n",
    "    backend_sim = Aer.get_backend('qasm_simulator')\n",
    "\n",
    "    # Execute the circuit on the qasm simulator.\n",
    "    # We've set the number of repeats of the circuit\n",
    "    # to be 1, which is the default.\n",
    "    job_sim = execute(circ, backend_sim, shots=1)\n",
    "\n",
    "    # Grab the results from the job.\n",
    "    result_sim = job_sim.result()\n",
    "    counts = result_sim.get_counts(circ)\n",
    "    output = list(counts.keys())[0] \n",
    "           \n",
    "    return output\n"
   ]
  },
  {
   "cell_type": "code",
   "execution_count": 6,
   "id": "daa2718d",
   "metadata": {},
   "outputs": [],
   "source": [
    "def bob_genrates_key(a_b, b_b, output):\n",
    "    key = ''\n",
    "    for i in range(len(b_b)):\n",
    "        if a_b[i] == b_b[i]:\n",
    "            key+=str(output[i])            \n",
    "    return key"
   ]
  },
  {
   "cell_type": "code",
   "execution_count": 7,
   "id": "ea5f72d7",
   "metadata": {},
   "outputs": [],
   "source": [
    "circuit = QuantumCircuit(8,8)"
   ]
  },
  {
   "cell_type": "code",
   "execution_count": 8,
   "id": "5a8259d3",
   "metadata": {},
   "outputs": [
    {
     "name": "stdout",
     "output_type": "stream",
     "text": [
      "Alice's Key bits:  00011100\n",
      "Alice's Basis bits:  00000110\n"
     ]
    }
   ],
   "source": [
    "# Alice generates her encoded key and basis\n",
    "\n",
    "Alice_en_key, Alice_basis = key_basis_generation(8,1020)\n",
    "\n",
    "print('Alice\\'s Key bits: ', Alice_en_key)\n",
    "print('Alice\\'s Basis bits: ', Alice_basis)\n"
   ]
  },
  {
   "cell_type": "code",
   "execution_count": 9,
   "id": "fd5aaee8",
   "metadata": {},
   "outputs": [
    {
     "name": "stdout",
     "output_type": "stream",
     "text": [
      "Bob's Key bits:  11100110\n"
     ]
    }
   ],
   "source": [
    "# Bob does generates the basis\n",
    "\n",
    "Truncate, Bob_basis = key_basis_generation(8, 200)\n",
    "\n",
    "print('Bob\\'s Key bits: ', Bob_basis)"
   ]
  },
  {
   "cell_type": "code",
   "execution_count": 10,
   "id": "89cef087",
   "metadata": {},
   "outputs": [
    {
     "data": {
      "image/png": "[encoded data removed]",
      "text/plain": [
       "<Figure size 267.197x565.88 with 1 Axes>"
      ]
     },
     "execution_count": 10,
     "metadata": {},
     "output_type": "execute_result"
    }
   ],
   "source": [
    "# Alice creates quantum circuit according to her key & basis\n",
    "circuit = gen_q(circuit, Alice_en_key, Alice_basis)\n",
    "circuit.barrier()\n",
    "circuit.draw('mpl')"
   ]
  },
  {
   "cell_type": "code",
   "execution_count": 11,
   "id": "dff8a8f5",
   "metadata": {},
   "outputs": [
    {
     "data": {
      "image/png": "[encoded data removed]",
      "text/plain": [
       "<Figure size 748.797x565.88 with 1 Axes>"
      ]
     },
     "execution_count": 11,
     "metadata": {},
     "output_type": "execute_result"
    }
   ],
   "source": [
    "# Bob creates measurement setting for the qubit according to his basis\n",
    "\n",
    "circuit = bob_measurement(circuit, Bob_basis)\n",
    "\n",
    "circuit.draw('mpl')"
   ]
  },
  {
   "cell_type": "code",
   "execution_count": 12,
   "id": "e989e50d",
   "metadata": {},
   "outputs": [
    {
     "name": "stdout",
     "output_type": "stream",
     "text": [
      "00111001\n"
     ]
    }
   ],
   "source": [
    "# Bob recieves the qubits from Alice and performs measurement \n",
    "output = bob_measures_the_qubit(circuit)\n",
    "print(output)"
   ]
  },
  {
   "cell_type": "code",
   "execution_count": 13,
   "id": "b7ab96f6",
   "metadata": {},
   "outputs": [
    {
     "name": "stdout",
     "output_type": "stream",
     "text": [
      "11001\n"
     ]
    }
   ],
   "source": [
    "# Bob compares the output with Alice's basis and generates the key\n",
    "key = bob_genrates_key(Alice_basis, Bob_basis, output)\n",
    "print(key)"
   ]
  },
  {
   "cell_type": "code",
   "execution_count": 14,
   "id": "86adfb3a",
   "metadata": {},
   "outputs": [
    {
     "name": "stdout",
     "output_type": "stream",
     "text": [
      "Decrypted bits:  01010000 01001001 \n"
     ]
    }
   ],
   "source": [
    "#Bob recieved an encoded message or cipher text from Alice\n",
    "c = [\"01001001\", \"01010000\"]\n",
    "decrypted = \"\"\n",
    "# padding key string\n",
    "key = key.rjust(len(c[0]), \"0\")\n",
    "for k in range(len(c)):\n",
    "    n = int(len(c[k])/len(key))\n",
    "    j = 0\n",
    "    for i in c[k]:\n",
    "        p = int(i)^int(key[j])\n",
    "        decrypted += str(p) \n",
    "        j+=1\n",
    "        if len(key) == j:\n",
    "            j=0\n",
    "    decrypted += ' '\n",
    "print('Decrypted bits: ', decrypted)"
   ]
  },
  {
   "cell_type": "code",
   "execution_count": 15,
   "id": "bbfb5394",
   "metadata": {},
   "outputs": [
    {
     "name": "stdout",
     "output_type": "stream",
     "text": [
      "The message:  PI\n"
     ]
    }
   ],
   "source": [
    "# Converting the bit string to a text\n",
    "\n",
    "binary_values = decrypted.split()\n",
    "\n",
    "ascii_string = \"\"\n",
    "\n",
    "for binary_value in binary_values:\n",
    "\n",
    "    an_integer = int(binary_value, 2)\n",
    "    ascii_character = chr(an_integer)\n",
    "    ascii_string += ascii_character\n",
    "\n",
    "print('The message: ', ascii_string)"
   ]
  },
  {
   "cell_type": "code",
   "execution_count": null,
   "id": "3ce9ddee",
   "metadata": {},
   "outputs": [],
   "source": []
  }
 ],
 "metadata": {
  "kernelspec": {
   "display_name": "Python 3",
   "language": "python",
   "name": "python3"
  },
  "language_info": {
   "codemirror_mode": {
    "name": "ipython",
    "version": 3
   },
   "file_extension": ".py",
   "mimetype": "text/x-python",
   "name": "python",
   "nbconvert_exporter": "python",
   "pygments_lexer": "ipython3",
   "version": "3.8.8"
  }
 },
 "nbformat": 4,
 "nbformat_minor": 5
}
